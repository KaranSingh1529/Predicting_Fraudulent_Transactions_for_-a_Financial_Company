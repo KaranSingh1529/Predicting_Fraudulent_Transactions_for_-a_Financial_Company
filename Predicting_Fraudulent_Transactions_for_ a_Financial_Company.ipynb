{
 "cells": [
  {
   "cell_type": "markdown",
   "id": "1f6de43a",
   "metadata": {},
   "source": [
    "# Predicting Fraudulent Transactions For a Financial Company"
   ]
  },
  {
   "cell_type": "markdown",
   "id": "fc87ae63",
   "metadata": {},
   "source": [
    "### Importing Libraries"
   ]
  },
  {
   "cell_type": "code",
   "execution_count": 1,
   "id": "ec87aca5",
   "metadata": {},
   "outputs": [],
   "source": [
    "import pandas as pd\n",
    "import numpy as np\n",
    "import matplotlib.pyplot as plt\n",
    "import seaborn as sns\n",
    "\n",
    "import warnings \n",
    "warnings.filterwarnings('ignore')"
   ]
  },
  {
   "cell_type": "markdown",
   "id": "7c58f021",
   "metadata": {},
   "source": [
    "### Importing Data set"
   ]
  },
  {
   "cell_type": "code",
   "execution_count": 2,
   "id": "088fe94b",
   "metadata": {},
   "outputs": [
    {
     "data": {
      "text/html": [
       "<div>\n",
       "<style scoped>\n",
       "    .dataframe tbody tr th:only-of-type {\n",
       "        vertical-align: middle;\n",
       "    }\n",
       "\n",
       "    .dataframe tbody tr th {\n",
       "        vertical-align: top;\n",
       "    }\n",
       "\n",
       "    .dataframe thead th {\n",
       "        text-align: right;\n",
       "    }\n",
       "</style>\n",
       "<table border=\"1\" class=\"dataframe\">\n",
       "  <thead>\n",
       "    <tr style=\"text-align: right;\">\n",
       "      <th></th>\n",
       "      <th>step</th>\n",
       "      <th>type</th>\n",
       "      <th>amount</th>\n",
       "      <th>nameOrig</th>\n",
       "      <th>oldbalanceOrg</th>\n",
       "      <th>newbalanceOrig</th>\n",
       "      <th>nameDest</th>\n",
       "      <th>oldbalanceDest</th>\n",
       "      <th>newbalanceDest</th>\n",
       "      <th>isFraud</th>\n",
       "      <th>isFlaggedFraud</th>\n",
       "    </tr>\n",
       "  </thead>\n",
       "  <tbody>\n",
       "    <tr>\n",
       "      <th>0</th>\n",
       "      <td>1</td>\n",
       "      <td>PAYMENT</td>\n",
       "      <td>9839.64</td>\n",
       "      <td>C1231006815</td>\n",
       "      <td>170136.00</td>\n",
       "      <td>160296.36</td>\n",
       "      <td>M1979787155</td>\n",
       "      <td>0.0</td>\n",
       "      <td>0.00</td>\n",
       "      <td>0</td>\n",
       "      <td>0</td>\n",
       "    </tr>\n",
       "    <tr>\n",
       "      <th>1</th>\n",
       "      <td>1</td>\n",
       "      <td>PAYMENT</td>\n",
       "      <td>1864.28</td>\n",
       "      <td>C1666544295</td>\n",
       "      <td>21249.00</td>\n",
       "      <td>19384.72</td>\n",
       "      <td>M2044282225</td>\n",
       "      <td>0.0</td>\n",
       "      <td>0.00</td>\n",
       "      <td>0</td>\n",
       "      <td>0</td>\n",
       "    </tr>\n",
       "    <tr>\n",
       "      <th>2</th>\n",
       "      <td>1</td>\n",
       "      <td>TRANSFER</td>\n",
       "      <td>181.00</td>\n",
       "      <td>C1305486145</td>\n",
       "      <td>181.00</td>\n",
       "      <td>0.00</td>\n",
       "      <td>C553264065</td>\n",
       "      <td>0.0</td>\n",
       "      <td>0.00</td>\n",
       "      <td>1</td>\n",
       "      <td>0</td>\n",
       "    </tr>\n",
       "    <tr>\n",
       "      <th>3</th>\n",
       "      <td>1</td>\n",
       "      <td>CASH_OUT</td>\n",
       "      <td>181.00</td>\n",
       "      <td>C840083671</td>\n",
       "      <td>181.00</td>\n",
       "      <td>0.00</td>\n",
       "      <td>C38997010</td>\n",
       "      <td>21182.0</td>\n",
       "      <td>0.00</td>\n",
       "      <td>1</td>\n",
       "      <td>0</td>\n",
       "    </tr>\n",
       "    <tr>\n",
       "      <th>4</th>\n",
       "      <td>1</td>\n",
       "      <td>PAYMENT</td>\n",
       "      <td>11668.14</td>\n",
       "      <td>C2048537720</td>\n",
       "      <td>41554.00</td>\n",
       "      <td>29885.86</td>\n",
       "      <td>M1230701703</td>\n",
       "      <td>0.0</td>\n",
       "      <td>0.00</td>\n",
       "      <td>0</td>\n",
       "      <td>0</td>\n",
       "    </tr>\n",
       "    <tr>\n",
       "      <th>5</th>\n",
       "      <td>1</td>\n",
       "      <td>PAYMENT</td>\n",
       "      <td>7817.71</td>\n",
       "      <td>C90045638</td>\n",
       "      <td>53860.00</td>\n",
       "      <td>46042.29</td>\n",
       "      <td>M573487274</td>\n",
       "      <td>0.0</td>\n",
       "      <td>0.00</td>\n",
       "      <td>0</td>\n",
       "      <td>0</td>\n",
       "    </tr>\n",
       "    <tr>\n",
       "      <th>6</th>\n",
       "      <td>1</td>\n",
       "      <td>PAYMENT</td>\n",
       "      <td>7107.77</td>\n",
       "      <td>C154988899</td>\n",
       "      <td>183195.00</td>\n",
       "      <td>176087.23</td>\n",
       "      <td>M408069119</td>\n",
       "      <td>0.0</td>\n",
       "      <td>0.00</td>\n",
       "      <td>0</td>\n",
       "      <td>0</td>\n",
       "    </tr>\n",
       "    <tr>\n",
       "      <th>7</th>\n",
       "      <td>1</td>\n",
       "      <td>PAYMENT</td>\n",
       "      <td>7861.64</td>\n",
       "      <td>C1912850431</td>\n",
       "      <td>176087.23</td>\n",
       "      <td>168225.59</td>\n",
       "      <td>M633326333</td>\n",
       "      <td>0.0</td>\n",
       "      <td>0.00</td>\n",
       "      <td>0</td>\n",
       "      <td>0</td>\n",
       "    </tr>\n",
       "    <tr>\n",
       "      <th>8</th>\n",
       "      <td>1</td>\n",
       "      <td>PAYMENT</td>\n",
       "      <td>4024.36</td>\n",
       "      <td>C1265012928</td>\n",
       "      <td>2671.00</td>\n",
       "      <td>0.00</td>\n",
       "      <td>M1176932104</td>\n",
       "      <td>0.0</td>\n",
       "      <td>0.00</td>\n",
       "      <td>0</td>\n",
       "      <td>0</td>\n",
       "    </tr>\n",
       "    <tr>\n",
       "      <th>9</th>\n",
       "      <td>1</td>\n",
       "      <td>DEBIT</td>\n",
       "      <td>5337.77</td>\n",
       "      <td>C712410124</td>\n",
       "      <td>41720.00</td>\n",
       "      <td>36382.23</td>\n",
       "      <td>C195600860</td>\n",
       "      <td>41898.0</td>\n",
       "      <td>40348.79</td>\n",
       "      <td>0</td>\n",
       "      <td>0</td>\n",
       "    </tr>\n",
       "    <tr>\n",
       "      <th>10</th>\n",
       "      <td>1</td>\n",
       "      <td>DEBIT</td>\n",
       "      <td>9644.94</td>\n",
       "      <td>C1900366749</td>\n",
       "      <td>4465.00</td>\n",
       "      <td>0.00</td>\n",
       "      <td>C997608398</td>\n",
       "      <td>10845.0</td>\n",
       "      <td>157982.12</td>\n",
       "      <td>0</td>\n",
       "      <td>0</td>\n",
       "    </tr>\n",
       "    <tr>\n",
       "      <th>11</th>\n",
       "      <td>1</td>\n",
       "      <td>PAYMENT</td>\n",
       "      <td>3099.97</td>\n",
       "      <td>C249177573</td>\n",
       "      <td>20771.00</td>\n",
       "      <td>17671.03</td>\n",
       "      <td>M2096539129</td>\n",
       "      <td>0.0</td>\n",
       "      <td>0.00</td>\n",
       "      <td>0</td>\n",
       "      <td>0</td>\n",
       "    </tr>\n",
       "    <tr>\n",
       "      <th>12</th>\n",
       "      <td>1</td>\n",
       "      <td>PAYMENT</td>\n",
       "      <td>2560.74</td>\n",
       "      <td>C1648232591</td>\n",
       "      <td>5070.00</td>\n",
       "      <td>2509.26</td>\n",
       "      <td>M972865270</td>\n",
       "      <td>0.0</td>\n",
       "      <td>0.00</td>\n",
       "      <td>0</td>\n",
       "      <td>0</td>\n",
       "    </tr>\n",
       "    <tr>\n",
       "      <th>13</th>\n",
       "      <td>1</td>\n",
       "      <td>PAYMENT</td>\n",
       "      <td>11633.76</td>\n",
       "      <td>C1716932897</td>\n",
       "      <td>10127.00</td>\n",
       "      <td>0.00</td>\n",
       "      <td>M801569151</td>\n",
       "      <td>0.0</td>\n",
       "      <td>0.00</td>\n",
       "      <td>0</td>\n",
       "      <td>0</td>\n",
       "    </tr>\n",
       "    <tr>\n",
       "      <th>14</th>\n",
       "      <td>1</td>\n",
       "      <td>PAYMENT</td>\n",
       "      <td>4098.78</td>\n",
       "      <td>C1026483832</td>\n",
       "      <td>503264.00</td>\n",
       "      <td>499165.22</td>\n",
       "      <td>M1635378213</td>\n",
       "      <td>0.0</td>\n",
       "      <td>0.00</td>\n",
       "      <td>0</td>\n",
       "      <td>0</td>\n",
       "    </tr>\n",
       "  </tbody>\n",
       "</table>\n",
       "</div>"
      ],
      "text/plain": [
       "    step      type    amount     nameOrig  oldbalanceOrg  newbalanceOrig  \\\n",
       "0      1   PAYMENT   9839.64  C1231006815      170136.00       160296.36   \n",
       "1      1   PAYMENT   1864.28  C1666544295       21249.00        19384.72   \n",
       "2      1  TRANSFER    181.00  C1305486145         181.00            0.00   \n",
       "3      1  CASH_OUT    181.00   C840083671         181.00            0.00   \n",
       "4      1   PAYMENT  11668.14  C2048537720       41554.00        29885.86   \n",
       "5      1   PAYMENT   7817.71    C90045638       53860.00        46042.29   \n",
       "6      1   PAYMENT   7107.77   C154988899      183195.00       176087.23   \n",
       "7      1   PAYMENT   7861.64  C1912850431      176087.23       168225.59   \n",
       "8      1   PAYMENT   4024.36  C1265012928        2671.00            0.00   \n",
       "9      1     DEBIT   5337.77   C712410124       41720.00        36382.23   \n",
       "10     1     DEBIT   9644.94  C1900366749        4465.00            0.00   \n",
       "11     1   PAYMENT   3099.97   C249177573       20771.00        17671.03   \n",
       "12     1   PAYMENT   2560.74  C1648232591        5070.00         2509.26   \n",
       "13     1   PAYMENT  11633.76  C1716932897       10127.00            0.00   \n",
       "14     1   PAYMENT   4098.78  C1026483832      503264.00       499165.22   \n",
       "\n",
       "       nameDest  oldbalanceDest  newbalanceDest  isFraud  isFlaggedFraud  \n",
       "0   M1979787155             0.0            0.00        0               0  \n",
       "1   M2044282225             0.0            0.00        0               0  \n",
       "2    C553264065             0.0            0.00        1               0  \n",
       "3     C38997010         21182.0            0.00        1               0  \n",
       "4   M1230701703             0.0            0.00        0               0  \n",
       "5    M573487274             0.0            0.00        0               0  \n",
       "6    M408069119             0.0            0.00        0               0  \n",
       "7    M633326333             0.0            0.00        0               0  \n",
       "8   M1176932104             0.0            0.00        0               0  \n",
       "9    C195600860         41898.0        40348.79        0               0  \n",
       "10   C997608398         10845.0       157982.12        0               0  \n",
       "11  M2096539129             0.0            0.00        0               0  \n",
       "12   M972865270             0.0            0.00        0               0  \n",
       "13   M801569151             0.0            0.00        0               0  \n",
       "14  M1635378213             0.0            0.00        0               0  "
      ]
     },
     "execution_count": 2,
     "metadata": {},
     "output_type": "execute_result"
    }
   ],
   "source": [
    "df = pd.read_csv(\"Fraud.csv\")\n",
    "df.head(15)"
   ]
  },
  {
   "cell_type": "code",
   "execution_count": 3,
   "id": "befddbd7",
   "metadata": {},
   "outputs": [
    {
     "data": {
      "text/plain": [
       "(6362620, 11)"
      ]
     },
     "execution_count": 3,
     "metadata": {},
     "output_type": "execute_result"
    }
   ],
   "source": [
    "df.shape"
   ]
  },
  {
   "cell_type": "code",
   "execution_count": 4,
   "id": "f3fc2f54",
   "metadata": {},
   "outputs": [
    {
     "name": "stdout",
     "output_type": "stream",
     "text": [
      "<class 'pandas.core.frame.DataFrame'>\n",
      "RangeIndex: 6362620 entries, 0 to 6362619\n",
      "Data columns (total 11 columns):\n",
      " #   Column          Dtype  \n",
      "---  ------          -----  \n",
      " 0   step            int64  \n",
      " 1   type            object \n",
      " 2   amount          float64\n",
      " 3   nameOrig        object \n",
      " 4   oldbalanceOrg   float64\n",
      " 5   newbalanceOrig  float64\n",
      " 6   nameDest        object \n",
      " 7   oldbalanceDest  float64\n",
      " 8   newbalanceDest  float64\n",
      " 9   isFraud         int64  \n",
      " 10  isFlaggedFraud  int64  \n",
      "dtypes: float64(5), int64(3), object(3)\n",
      "memory usage: 534.0+ MB\n"
     ]
    }
   ],
   "source": [
    "df.info()"
   ]
  },
  {
   "cell_type": "markdown",
   "id": "04bccb9e",
   "metadata": {},
   "source": [
    "### Handling Missing Values"
   ]
  },
  {
   "cell_type": "code",
   "execution_count": 5,
   "id": "eb4c8945",
   "metadata": {},
   "outputs": [
    {
     "data": {
      "text/plain": [
       "step              0\n",
       "type              0\n",
       "amount            0\n",
       "nameOrig          0\n",
       "oldbalanceOrg     0\n",
       "newbalanceOrig    0\n",
       "nameDest          0\n",
       "oldbalanceDest    0\n",
       "newbalanceDest    0\n",
       "isFraud           0\n",
       "isFlaggedFraud    0\n",
       "dtype: int64"
      ]
     },
     "execution_count": 5,
     "metadata": {},
     "output_type": "execute_result"
    }
   ],
   "source": [
    "df.isnull().sum()"
   ]
  },
  {
   "cell_type": "code",
   "execution_count": 6,
   "id": "65e727b0",
   "metadata": {},
   "outputs": [],
   "source": [
    "df = df.drop_duplicates()"
   ]
  },
  {
   "cell_type": "code",
   "execution_count": 7,
   "id": "c381804d",
   "metadata": {},
   "outputs": [],
   "source": [
    "df=df.drop(['nameOrig','nameDest'],axis=1)"
   ]
  },
  {
   "cell_type": "code",
   "execution_count": 8,
   "id": "a4fa4b06",
   "metadata": {},
   "outputs": [
    {
     "data": {
      "text/html": [
       "<div>\n",
       "<style scoped>\n",
       "    .dataframe tbody tr th:only-of-type {\n",
       "        vertical-align: middle;\n",
       "    }\n",
       "\n",
       "    .dataframe tbody tr th {\n",
       "        vertical-align: top;\n",
       "    }\n",
       "\n",
       "    .dataframe thead th {\n",
       "        text-align: right;\n",
       "    }\n",
       "</style>\n",
       "<table border=\"1\" class=\"dataframe\">\n",
       "  <thead>\n",
       "    <tr style=\"text-align: right;\">\n",
       "      <th></th>\n",
       "      <th>isFraud</th>\n",
       "      <th>count</th>\n",
       "      <th>percent</th>\n",
       "    </tr>\n",
       "  </thead>\n",
       "  <tbody>\n",
       "    <tr>\n",
       "      <th>0</th>\n",
       "      <td>0</td>\n",
       "      <td>6354407</td>\n",
       "      <td>99.870918</td>\n",
       "    </tr>\n",
       "    <tr>\n",
       "      <th>1</th>\n",
       "      <td>1</td>\n",
       "      <td>8213</td>\n",
       "      <td>0.129082</td>\n",
       "    </tr>\n",
       "  </tbody>\n",
       "</table>\n",
       "</div>"
      ],
      "text/plain": [
       "   isFraud    count    percent\n",
       "0        0  6354407  99.870918\n",
       "1        1     8213   0.129082"
      ]
     },
     "execution_count": 8,
     "metadata": {},
     "output_type": "execute_result"
    }
   ],
   "source": [
    "df_fraud = df[['isFraud','type']].groupby(['isFraud']).count().reset_index()\n",
    "df_fraud.columns = ['isFraud','count']\n",
    "\n",
    "df_fraud['percent'] = (df_fraud['count']/df_fraud['count'].sum())*100\n",
    "\n",
    "df_fraud"
   ]
  },
  {
   "cell_type": "code",
   "execution_count": 9,
   "id": "e530f400",
   "metadata": {},
   "outputs": [],
   "source": [
    "values = df['isFraud'].value_counts().values\n",
    "labels = ['Not Fraud','Fraud']\n",
    "explode = (0.1,0)"
   ]
  },
  {
   "cell_type": "code",
   "execution_count": 10,
   "id": "ec850362",
   "metadata": {},
   "outputs": [
    {
     "data": {
      "image/png": "[encoded data removed]",
      "text/plain": [
       "<Figure size 432x288 with 1 Axes>"
      ]
     },
     "metadata": {},
     "output_type": "display_data"
    }
   ],
   "source": [
    "plt.pie(values,labels=labels,explode=explode,shadow=True,autopct='%1.1f%%')\n",
    "plt.show()"
   ]
  },
  {
   "cell_type": "markdown",
   "id": "f1b73b95",
   "metadata": {},
   "source": [
    "### Checking For Outliers"
   ]
  },
  {
   "cell_type": "code",
   "execution_count": 11,
   "id": "c3f48374",
   "metadata": {},
   "outputs": [
    {
     "data": {
      "image/png": "[encoded data removed]",
      "text/plain": [
       "<Figure size 432x288 with 1 Axes>"
      ]
     },
     "metadata": {
      "needs_background": "light"
     },
     "output_type": "display_data"
    }
   ],
   "source": [
    "sns.boxenplot(df['amount'])\n",
    "plt.ylabel('distribution')\n",
    "plt.show()"
   ]
  },
  {
   "cell_type": "code",
   "execution_count": 12,
   "id": "4a738bbc",
   "metadata": {},
   "outputs": [
    {
     "data": {
      "text/plain": [
       "Text(0, 0.5, 'distribution')"
      ]
     },
     "execution_count": 12,
     "metadata": {},
     "output_type": "execute_result"
    },
    {
     "data": {
      "image/png": "[encoded data removed]",
      "text/plain": [
       "<Figure size 432x288 with 1 Axes>"
      ]
     },
     "metadata": {
      "needs_background": "light"
     },
     "output_type": "display_data"
    }
   ],
   "source": [
    "sns.boxenplot(df['oldbalanceOrg'])\n",
    "plt.ylabel('distribution')"
   ]
  },
  {
   "cell_type": "code",
   "execution_count": 13,
   "id": "497a58da",
   "metadata": {},
   "outputs": [
    {
     "data": {
      "text/plain": [
       "Text(0, 0.5, 'distribution')"
      ]
     },
     "execution_count": 13,
     "metadata": {},
     "output_type": "execute_result"
    },
    {
     "data": {
      "image/png": "[encoded data removed]",
      "text/plain": [
       "<Figure size 432x288 with 1 Axes>"
      ]
     },
     "metadata": {
      "needs_background": "light"
     },
     "output_type": "display_data"
    }
   ],
   "source": [
    "sns.boxenplot(df['newbalanceOrig'])\n",
    "plt.ylabel('distribution')"
   ]
  },
  {
   "cell_type": "code",
   "execution_count": 14,
   "id": "42708182",
   "metadata": {},
   "outputs": [
    {
     "data": {
      "text/plain": [
       "Text(0, 0.5, 'distribution')"
      ]
     },
     "execution_count": 14,
     "metadata": {},
     "output_type": "execute_result"
    },
    {
     "data": {
      "image/png": "[encoded data removed]",
      "text/plain": [
       "<Figure size 432x288 with 1 Axes>"
      ]
     },
     "metadata": {
      "needs_background": "light"
     },
     "output_type": "display_data"
    }
   ],
   "source": [
    "sns.boxenplot(df['oldbalanceDest'])\n",
    "plt.ylabel('distribution')"
   ]
  },
  {
   "cell_type": "code",
   "execution_count": 15,
   "id": "e2f08207",
   "metadata": {},
   "outputs": [
    {
     "data": {
      "text/plain": [
       "Text(0, 0.5, 'distribution')"
      ]
     },
     "execution_count": 15,
     "metadata": {},
     "output_type": "execute_result"
    },
    {
     "data": {
      "image/png": "[encoded data removed]",
      "text/plain": [
       "<Figure size 432x288 with 1 Axes>"
      ]
     },
     "metadata": {
      "needs_background": "light"
     },
     "output_type": "display_data"
    }
   ],
   "source": [
    "sns.boxenplot(df['newbalanceDest'])\n",
    "plt.ylabel('distribution')"
   ]
  },
  {
   "cell_type": "code",
   "execution_count": 16,
   "id": "594b1c48",
   "metadata": {},
   "outputs": [],
   "source": [
    "def remove_outliers(df,col):\n",
    "    lower_quantile = df[col].quantile(0.25)\n",
    "    upper_quantile = df[col].quantile(0.75)\n",
    "    IQR = upper_quantile - lower_quantile\n",
    "    lower_whisker = lower_quantile - 1.5 * IQR\n",
    "    upper_whisker = upper_quantile + 1.5 * IQR\n",
    "    temp = df.loc[(df[col]>lower_whisker)&(df[col]<upper_whisker)]\n",
    "    return temp[col]"
   ]
  },
  {
   "cell_type": "code",
   "execution_count": 17,
   "id": "4b688229",
   "metadata": {},
   "outputs": [],
   "source": [
    "df['amount'] = remove_outliers(df,'amount')\n",
    "df['oldbalanceOrg'] = remove_outliers(df,'oldbalanceOrg')\n",
    "df['newbalanceOrig'] = remove_outliers(df,'newbalanceOrig')\n",
    "df['oldbalanceDest'] = remove_outliers(df,'oldbalanceDest')\n",
    "df['newbalanceDest'] = remove_outliers(df,'newbalanceDest')\n",
    "df['amount'].fillna(df['amount'].mean(),inplace=True)\n",
    "df['oldbalanceOrg'].fillna(df['oldbalanceOrg'].mean(),inplace=True)\n",
    "df['newbalanceOrig'].fillna(df['newbalanceOrig'].mean(),inplace=True)\n",
    "df['oldbalanceDest'].fillna(df['oldbalanceDest'].mean(),inplace=True)\n",
    "df['newbalanceDest'].fillna(df['newbalanceDest'].mean(),inplace=True)"
   ]
  },
  {
   "cell_type": "markdown",
   "id": "ee6b7e6b",
   "metadata": {},
   "source": [
    "### Creating For Dummy Variables"
   ]
  },
  {
   "cell_type": "code",
   "execution_count": 18,
   "id": "4b303b1f",
   "metadata": {},
   "outputs": [],
   "source": [
    "dummy = pd.get_dummies(df[['type']], drop_first=True)\n",
    "\n",
    "# Add the results to the master dataframe\n",
    "df = pd.concat([df, dummy], axis=1)"
   ]
  },
  {
   "cell_type": "code",
   "execution_count": 19,
   "id": "8eb346d8",
   "metadata": {},
   "outputs": [
    {
     "data": {
      "text/html": [
       "<div>\n",
       "<style scoped>\n",
       "    .dataframe tbody tr th:only-of-type {\n",
       "        vertical-align: middle;\n",
       "    }\n",
       "\n",
       "    .dataframe tbody tr th {\n",
       "        vertical-align: top;\n",
       "    }\n",
       "\n",
       "    .dataframe thead th {\n",
       "        text-align: right;\n",
       "    }\n",
       "</style>\n",
       "<table border=\"1\" class=\"dataframe\">\n",
       "  <thead>\n",
       "    <tr style=\"text-align: right;\">\n",
       "      <th></th>\n",
       "      <th>step</th>\n",
       "      <th>amount</th>\n",
       "      <th>oldbalanceOrg</th>\n",
       "      <th>newbalanceOrig</th>\n",
       "      <th>oldbalanceDest</th>\n",
       "      <th>newbalanceDest</th>\n",
       "      <th>isFraud</th>\n",
       "      <th>isFlaggedFraud</th>\n",
       "      <th>type_CASH_OUT</th>\n",
       "      <th>type_DEBIT</th>\n",
       "      <th>type_PAYMENT</th>\n",
       "      <th>type_TRANSFER</th>\n",
       "    </tr>\n",
       "  </thead>\n",
       "  <tbody>\n",
       "    <tr>\n",
       "      <th>0</th>\n",
       "      <td>1</td>\n",
       "      <td>9839.640000</td>\n",
       "      <td>170136.00000</td>\n",
       "      <td>160296.36</td>\n",
       "      <td>0.00000</td>\n",
       "      <td>0.00000</td>\n",
       "      <td>0</td>\n",
       "      <td>0</td>\n",
       "      <td>0</td>\n",
       "      <td>0</td>\n",
       "      <td>1</td>\n",
       "      <td>0</td>\n",
       "    </tr>\n",
       "    <tr>\n",
       "      <th>1</th>\n",
       "      <td>1</td>\n",
       "      <td>1864.280000</td>\n",
       "      <td>21249.00000</td>\n",
       "      <td>19384.72</td>\n",
       "      <td>0.00000</td>\n",
       "      <td>0.00000</td>\n",
       "      <td>0</td>\n",
       "      <td>0</td>\n",
       "      <td>0</td>\n",
       "      <td>0</td>\n",
       "      <td>1</td>\n",
       "      <td>0</td>\n",
       "    </tr>\n",
       "    <tr>\n",
       "      <th>2</th>\n",
       "      <td>1</td>\n",
       "      <td>181.000000</td>\n",
       "      <td>181.00000</td>\n",
       "      <td>0.00</td>\n",
       "      <td>0.00000</td>\n",
       "      <td>0.00000</td>\n",
       "      <td>1</td>\n",
       "      <td>0</td>\n",
       "      <td>0</td>\n",
       "      <td>0</td>\n",
       "      <td>0</td>\n",
       "      <td>1</td>\n",
       "    </tr>\n",
       "    <tr>\n",
       "      <th>3</th>\n",
       "      <td>1</td>\n",
       "      <td>181.000000</td>\n",
       "      <td>181.00000</td>\n",
       "      <td>0.00</td>\n",
       "      <td>21182.00000</td>\n",
       "      <td>0.00000</td>\n",
       "      <td>1</td>\n",
       "      <td>0</td>\n",
       "      <td>1</td>\n",
       "      <td>0</td>\n",
       "      <td>0</td>\n",
       "      <td>0</td>\n",
       "    </tr>\n",
       "    <tr>\n",
       "      <th>4</th>\n",
       "      <td>1</td>\n",
       "      <td>11668.140000</td>\n",
       "      <td>41554.00000</td>\n",
       "      <td>29885.86</td>\n",
       "      <td>0.00000</td>\n",
       "      <td>0.00000</td>\n",
       "      <td>0</td>\n",
       "      <td>0</td>\n",
       "      <td>0</td>\n",
       "      <td>0</td>\n",
       "      <td>1</td>\n",
       "      <td>0</td>\n",
       "    </tr>\n",
       "    <tr>\n",
       "      <th>...</th>\n",
       "      <td>...</td>\n",
       "      <td>...</td>\n",
       "      <td>...</td>\n",
       "      <td>...</td>\n",
       "      <td>...</td>\n",
       "      <td>...</td>\n",
       "      <td>...</td>\n",
       "      <td>...</td>\n",
       "      <td>...</td>\n",
       "      <td>...</td>\n",
       "      <td>...</td>\n",
       "      <td>...</td>\n",
       "    </tr>\n",
       "    <tr>\n",
       "      <th>6362615</th>\n",
       "      <td>743</td>\n",
       "      <td>339682.130000</td>\n",
       "      <td>30663.77495</td>\n",
       "      <td>0.00</td>\n",
       "      <td>0.00000</td>\n",
       "      <td>339682.13000</td>\n",
       "      <td>1</td>\n",
       "      <td>0</td>\n",
       "      <td>1</td>\n",
       "      <td>0</td>\n",
       "      <td>0</td>\n",
       "      <td>0</td>\n",
       "    </tr>\n",
       "    <tr>\n",
       "      <th>6362616</th>\n",
       "      <td>743</td>\n",
       "      <td>111534.180303</td>\n",
       "      <td>30663.77495</td>\n",
       "      <td>0.00</td>\n",
       "      <td>0.00000</td>\n",
       "      <td>0.00000</td>\n",
       "      <td>1</td>\n",
       "      <td>0</td>\n",
       "      <td>0</td>\n",
       "      <td>0</td>\n",
       "      <td>0</td>\n",
       "      <td>1</td>\n",
       "    </tr>\n",
       "    <tr>\n",
       "      <th>6362617</th>\n",
       "      <td>743</td>\n",
       "      <td>111534.180303</td>\n",
       "      <td>30663.77495</td>\n",
       "      <td>0.00</td>\n",
       "      <td>68488.84000</td>\n",
       "      <td>443910.35578</td>\n",
       "      <td>1</td>\n",
       "      <td>0</td>\n",
       "      <td>1</td>\n",
       "      <td>0</td>\n",
       "      <td>0</td>\n",
       "      <td>0</td>\n",
       "    </tr>\n",
       "    <tr>\n",
       "      <th>6362618</th>\n",
       "      <td>743</td>\n",
       "      <td>111534.180303</td>\n",
       "      <td>30663.77495</td>\n",
       "      <td>0.00</td>\n",
       "      <td>0.00000</td>\n",
       "      <td>0.00000</td>\n",
       "      <td>1</td>\n",
       "      <td>0</td>\n",
       "      <td>0</td>\n",
       "      <td>0</td>\n",
       "      <td>0</td>\n",
       "      <td>1</td>\n",
       "    </tr>\n",
       "    <tr>\n",
       "      <th>6362619</th>\n",
       "      <td>743</td>\n",
       "      <td>111534.180303</td>\n",
       "      <td>30663.77495</td>\n",
       "      <td>0.00</td>\n",
       "      <td>352676.23892</td>\n",
       "      <td>443910.35578</td>\n",
       "      <td>1</td>\n",
       "      <td>0</td>\n",
       "      <td>1</td>\n",
       "      <td>0</td>\n",
       "      <td>0</td>\n",
       "      <td>0</td>\n",
       "    </tr>\n",
       "  </tbody>\n",
       "</table>\n",
       "<p>6362620 rows × 12 columns</p>\n",
       "</div>"
      ],
      "text/plain": [
       "         step         amount  oldbalanceOrg  newbalanceOrig  oldbalanceDest  \\\n",
       "0           1    9839.640000   170136.00000       160296.36         0.00000   \n",
       "1           1    1864.280000    21249.00000        19384.72         0.00000   \n",
       "2           1     181.000000      181.00000            0.00         0.00000   \n",
       "3           1     181.000000      181.00000            0.00     21182.00000   \n",
       "4           1   11668.140000    41554.00000        29885.86         0.00000   \n",
       "...       ...            ...            ...             ...             ...   \n",
       "6362615   743  339682.130000    30663.77495            0.00         0.00000   \n",
       "6362616   743  111534.180303    30663.77495            0.00         0.00000   \n",
       "6362617   743  111534.180303    30663.77495            0.00     68488.84000   \n",
       "6362618   743  111534.180303    30663.77495            0.00         0.00000   \n",
       "6362619   743  111534.180303    30663.77495            0.00    352676.23892   \n",
       "\n",
       "         newbalanceDest  isFraud  isFlaggedFraud  type_CASH_OUT  type_DEBIT  \\\n",
       "0               0.00000        0               0              0           0   \n",
       "1               0.00000        0               0              0           0   \n",
       "2               0.00000        1               0              0           0   \n",
       "3               0.00000        1               0              1           0   \n",
       "4               0.00000        0               0              0           0   \n",
       "...                 ...      ...             ...            ...         ...   \n",
       "6362615    339682.13000        1               0              1           0   \n",
       "6362616         0.00000        1               0              0           0   \n",
       "6362617    443910.35578        1               0              1           0   \n",
       "6362618         0.00000        1               0              0           0   \n",
       "6362619    443910.35578        1               0              1           0   \n",
       "\n",
       "         type_PAYMENT  type_TRANSFER  \n",
       "0                   1              0  \n",
       "1                   1              0  \n",
       "2                   0              1  \n",
       "3                   0              0  \n",
       "4                   1              0  \n",
       "...               ...            ...  \n",
       "6362615             0              0  \n",
       "6362616             0              1  \n",
       "6362617             0              0  \n",
       "6362618             0              1  \n",
       "6362619             0              0  \n",
       "\n",
       "[6362620 rows x 12 columns]"
      ]
     },
     "execution_count": 19,
     "metadata": {},
     "output_type": "execute_result"
    }
   ],
   "source": [
    "df = df.drop(['type'],1)\n",
    "df"
   ]
  },
  {
   "cell_type": "markdown",
   "id": "4394b64a",
   "metadata": {},
   "source": [
    "### Checking For Coorelation"
   ]
  },
  {
   "cell_type": "code",
   "execution_count": 20,
   "id": "c8cba1d5",
   "metadata": {},
   "outputs": [
    {
     "data": {
      "image/png": "[encoded data removed]",
      "text/plain": [
       "<Figure size 1440x720 with 2 Axes>"
      ]
     },
     "metadata": {
      "needs_background": "light"
     },
     "output_type": "display_data"
    }
   ],
   "source": [
    "plt.figure(figsize = (20,10))        # Size of the figure\n",
    "sns.heatmap(df.corr(),annot = True)\n",
    "plt.show()"
   ]
  },
  {
   "cell_type": "code",
   "execution_count": 21,
   "id": "f6358cde",
   "metadata": {},
   "outputs": [],
   "source": [
    "X= df.drop(['isFraud'],axis=1)\n",
    "y= df['isFraud']"
   ]
  },
  {
   "cell_type": "code",
   "execution_count": 22,
   "id": "3c9f43f9",
   "metadata": {},
   "outputs": [
    {
     "data": {
      "text/html": [
       "<div>\n",
       "<style scoped>\n",
       "    .dataframe tbody tr th:only-of-type {\n",
       "        vertical-align: middle;\n",
       "    }\n",
       "\n",
       "    .dataframe tbody tr th {\n",
       "        vertical-align: top;\n",
       "    }\n",
       "\n",
       "    .dataframe thead th {\n",
       "        text-align: right;\n",
       "    }\n",
       "</style>\n",
       "<table border=\"1\" class=\"dataframe\">\n",
       "  <thead>\n",
       "    <tr style=\"text-align: right;\">\n",
       "      <th></th>\n",
       "      <th>step</th>\n",
       "      <th>amount</th>\n",
       "      <th>oldbalanceOrg</th>\n",
       "      <th>newbalanceOrig</th>\n",
       "      <th>oldbalanceDest</th>\n",
       "      <th>newbalanceDest</th>\n",
       "      <th>isFlaggedFraud</th>\n",
       "      <th>type_CASH_OUT</th>\n",
       "      <th>type_DEBIT</th>\n",
       "      <th>type_PAYMENT</th>\n",
       "      <th>type_TRANSFER</th>\n",
       "    </tr>\n",
       "  </thead>\n",
       "  <tbody>\n",
       "    <tr>\n",
       "      <th>0</th>\n",
       "      <td>1</td>\n",
       "      <td>9839.64</td>\n",
       "      <td>170136.0</td>\n",
       "      <td>160296.36</td>\n",
       "      <td>0.0</td>\n",
       "      <td>0.0</td>\n",
       "      <td>0</td>\n",
       "      <td>0</td>\n",
       "      <td>0</td>\n",
       "      <td>1</td>\n",
       "      <td>0</td>\n",
       "    </tr>\n",
       "    <tr>\n",
       "      <th>1</th>\n",
       "      <td>1</td>\n",
       "      <td>1864.28</td>\n",
       "      <td>21249.0</td>\n",
       "      <td>19384.72</td>\n",
       "      <td>0.0</td>\n",
       "      <td>0.0</td>\n",
       "      <td>0</td>\n",
       "      <td>0</td>\n",
       "      <td>0</td>\n",
       "      <td>1</td>\n",
       "      <td>0</td>\n",
       "    </tr>\n",
       "    <tr>\n",
       "      <th>2</th>\n",
       "      <td>1</td>\n",
       "      <td>181.00</td>\n",
       "      <td>181.0</td>\n",
       "      <td>0.00</td>\n",
       "      <td>0.0</td>\n",
       "      <td>0.0</td>\n",
       "      <td>0</td>\n",
       "      <td>0</td>\n",
       "      <td>0</td>\n",
       "      <td>0</td>\n",
       "      <td>1</td>\n",
       "    </tr>\n",
       "    <tr>\n",
       "      <th>3</th>\n",
       "      <td>1</td>\n",
       "      <td>181.00</td>\n",
       "      <td>181.0</td>\n",
       "      <td>0.00</td>\n",
       "      <td>21182.0</td>\n",
       "      <td>0.0</td>\n",
       "      <td>0</td>\n",
       "      <td>1</td>\n",
       "      <td>0</td>\n",
       "      <td>0</td>\n",
       "      <td>0</td>\n",
       "    </tr>\n",
       "    <tr>\n",
       "      <th>4</th>\n",
       "      <td>1</td>\n",
       "      <td>11668.14</td>\n",
       "      <td>41554.0</td>\n",
       "      <td>29885.86</td>\n",
       "      <td>0.0</td>\n",
       "      <td>0.0</td>\n",
       "      <td>0</td>\n",
       "      <td>0</td>\n",
       "      <td>0</td>\n",
       "      <td>1</td>\n",
       "      <td>0</td>\n",
       "    </tr>\n",
       "  </tbody>\n",
       "</table>\n",
       "</div>"
      ],
      "text/plain": [
       "   step    amount  oldbalanceOrg  newbalanceOrig  oldbalanceDest  \\\n",
       "0     1   9839.64       170136.0       160296.36             0.0   \n",
       "1     1   1864.28        21249.0        19384.72             0.0   \n",
       "2     1    181.00          181.0            0.00             0.0   \n",
       "3     1    181.00          181.0            0.00         21182.0   \n",
       "4     1  11668.14        41554.0        29885.86             0.0   \n",
       "\n",
       "   newbalanceDest  isFlaggedFraud  type_CASH_OUT  type_DEBIT  type_PAYMENT  \\\n",
       "0             0.0               0              0           0             1   \n",
       "1             0.0               0              0           0             1   \n",
       "2             0.0               0              0           0             0   \n",
       "3             0.0               0              1           0             0   \n",
       "4             0.0               0              0           0             1   \n",
       "\n",
       "   type_TRANSFER  \n",
       "0              0  \n",
       "1              0  \n",
       "2              1  \n",
       "3              0  \n",
       "4              0  "
      ]
     },
     "execution_count": 22,
     "metadata": {},
     "output_type": "execute_result"
    }
   ],
   "source": [
    "X.head()"
   ]
  },
  {
   "cell_type": "code",
   "execution_count": 23,
   "id": "b9ca93a5",
   "metadata": {},
   "outputs": [
    {
     "data": {
      "text/plain": [
       "0    0\n",
       "1    0\n",
       "2    1\n",
       "3    1\n",
       "4    0\n",
       "Name: isFraud, dtype: int64"
      ]
     },
     "execution_count": 23,
     "metadata": {},
     "output_type": "execute_result"
    }
   ],
   "source": [
    "y.head()"
   ]
  },
  {
   "cell_type": "markdown",
   "id": "7b578125",
   "metadata": {},
   "source": [
    "### Over-Sampling"
   ]
  },
  {
   "cell_type": "code",
   "execution_count": 24,
   "id": "d284b9bc",
   "metadata": {},
   "outputs": [
    {
     "name": "stdout",
     "output_type": "stream",
     "text": [
      "Shape of x:            step         amount  oldbalanceOrg  newbalanceOrig  oldbalanceDest  \\\n",
      "0            1    9839.640000  170136.000000       160296.36             0.0   \n",
      "1            1    1864.280000   21249.000000        19384.72             0.0   \n",
      "2            1     181.000000     181.000000            0.00             0.0   \n",
      "3            1     181.000000     181.000000            0.00         21182.0   \n",
      "4            1   11668.140000   41554.000000        29885.86             0.0   \n",
      "...        ...            ...            ...             ...             ...   \n",
      "12708809   159  388968.662672   30663.774950            0.00             0.0   \n",
      "12708810   610  105667.909533  105667.909533            0.00             0.0   \n",
      "12708811   405   70601.948507   70601.948507            0.00             0.0   \n",
      "12708812   583   72939.761807   72939.761807            0.00             0.0   \n",
      "12708813   558  115545.787265  115545.787265            0.00             0.0   \n",
      "\n",
      "          newbalanceDest  isFlaggedFraud  type_CASH_OUT  type_DEBIT  \\\n",
      "0                    0.0               0              0           0   \n",
      "1                    0.0               0              0           0   \n",
      "2                    0.0               0              0           0   \n",
      "3                    0.0               0              1           0   \n",
      "4                    0.0               0              0           0   \n",
      "...                  ...             ...            ...         ...   \n",
      "12708809             0.0               0              0           0   \n",
      "12708810             0.0               0              0           0   \n",
      "12708811             0.0               0              0           0   \n",
      "12708812             0.0               0              0           0   \n",
      "12708813             0.0               0              0           0   \n",
      "\n",
      "          type_PAYMENT  type_TRANSFER  \n",
      "0                    1              0  \n",
      "1                    1              0  \n",
      "2                    0              1  \n",
      "3                    0              0  \n",
      "4                    1              0  \n",
      "...                ...            ...  \n",
      "12708809             0              1  \n",
      "12708810             0              1  \n",
      "12708811             0              1  \n",
      "12708812             0              1  \n",
      "12708813             0              1  \n",
      "\n",
      "[12708814 rows x 11 columns]\n",
      "Shape of y: [0 0 1 ... 1 1 1]\n"
     ]
    }
   ],
   "source": [
    "from imblearn.over_sampling import SMOTE\n",
    "\n",
    "X, y = SMOTE().fit_resample(X, y.values.ravel())\n",
    "\n",
    "# getting the shapes of x and y after resampling\n",
    "print(\"Shape of x: \", X)\n",
    "print(\"Shape of y:\", y)"
   ]
  },
  {
   "cell_type": "code",
   "execution_count": 25,
   "id": "f75a8fa2",
   "metadata": {},
   "outputs": [
    {
     "data": {
      "text/plain": [
       "(12708814, 11)"
      ]
     },
     "execution_count": 25,
     "metadata": {},
     "output_type": "execute_result"
    }
   ],
   "source": [
    "X.shape"
   ]
  },
  {
   "cell_type": "code",
   "execution_count": 26,
   "id": "7ae42d7c",
   "metadata": {},
   "outputs": [
    {
     "data": {
      "text/plain": [
       "(12708814,)"
      ]
     },
     "execution_count": 26,
     "metadata": {},
     "output_type": "execute_result"
    }
   ],
   "source": [
    "y.shape"
   ]
  },
  {
   "cell_type": "markdown",
   "id": "0202eef0",
   "metadata": {},
   "source": [
    "### Spliting the Data"
   ]
  },
  {
   "cell_type": "code",
   "execution_count": 27,
   "id": "1a94c203",
   "metadata": {},
   "outputs": [],
   "source": [
    "from sklearn.model_selection import train_test_split\n",
    "X_train, X_test, y_train, y_test = train_test_split(X, y, train_size=0.7, test_size=0.3, random_state=100)"
   ]
  },
  {
   "cell_type": "markdown",
   "id": "7c97e554",
   "metadata": {},
   "source": [
    "### Model Building"
   ]
  },
  {
   "cell_type": "markdown",
   "id": "04b5c7be",
   "metadata": {},
   "source": [
    "### Building Logistic Regression Model"
   ]
  },
  {
   "cell_type": "code",
   "execution_count": 28,
   "id": "5a09e384",
   "metadata": {},
   "outputs": [
    {
     "data": {
      "text/plain": [
       "LogisticRegression(random_state=42)"
      ]
     },
     "execution_count": 28,
     "metadata": {},
     "output_type": "execute_result"
    }
   ],
   "source": [
    "from sklearn.linear_model import LogisticRegression\n",
    "from sklearn.metrics import accuracy_score, confusion_matrix, classification_report\n",
    "from sklearn.metrics import roc_auc_score\n",
    "from sklearn.metrics import f1_score\n",
    "logreg = LogisticRegression(random_state=42)\n",
    "logreg.fit(X_train, y_train)"
   ]
  },
  {
   "cell_type": "code",
   "execution_count": null,
   "id": "188a4c80",
   "metadata": {},
   "outputs": [],
   "source": [
    "from sklearn.feature_selection import RFE\n",
    "rfe = RFE(logreg,step=15)             # running RFE with 15 variables as output\n",
    "rfe = rfe.fit(X_train, y_train)"
   ]
  },
  {
   "cell_type": "code",
   "execution_count": null,
   "id": "4ca12474",
   "metadata": {},
   "outputs": [],
   "source": [
    "rfe.support_"
   ]
  },
  {
   "cell_type": "code",
   "execution_count": null,
   "id": "1f0c0fcb",
   "metadata": {},
   "outputs": [],
   "source": [
    "# Checking for top variable\n",
    "list(zip(X_train.columns, rfe.support_, rfe.ranking_))"
   ]
  },
  {
   "cell_type": "code",
   "execution_count": null,
   "id": "de803bd0",
   "metadata": {},
   "outputs": [],
   "source": [
    "logreg = LogisticRegression(random_state=42)"
   ]
  },
  {
   "cell_type": "code",
   "execution_count": null,
   "id": "3d06b638",
   "metadata": {},
   "outputs": [],
   "source": [
    "logreg.fit(X_train, y_train)"
   ]
  },
  {
   "cell_type": "code",
   "execution_count": null,
   "id": "e9a70ded",
   "metadata": {},
   "outputs": [],
   "source": [
    "  y_train_pred = logreg.predict(X_train)\n",
    "  y_test_pred = logreg.predict(X_test)"
   ]
  },
  {
   "cell_type": "markdown",
   "id": "31db31eb",
   "metadata": {},
   "source": [
    "### Evaluting model on Train data"
   ]
  },
  {
   "cell_type": "code",
   "execution_count": null,
   "id": "13678272",
   "metadata": {},
   "outputs": [],
   "source": [
    "print(confusion_matrix(y_train, y_train_pred))\n",
    "print()\n",
    "print(classification_report(y_train, y_train_pred))\n",
    "print()\n",
    "print('ROC AUC Score:',roc_auc_score(y_train,y_train_pred))\n",
    "print()\n",
    "print('F1 Score:',f1_score(y_train,y_train_pred))\n",
    "print()\n",
    "print('Accuracy Score:',accuracy_score(y_train,y_train_pred))"
   ]
  },
  {
   "cell_type": "markdown",
   "id": "cf301e2d",
   "metadata": {},
   "source": [
    "### Evaluting model on Test data"
   ]
  },
  {
   "cell_type": "code",
   "execution_count": null,
   "id": "0ce1a2da",
   "metadata": {},
   "outputs": [],
   "source": [
    "print(confusion_matrix(y_test, y_test_pred))\n",
    "print()\n",
    "print(classification_report(y_test, y_test_pred))\n",
    "print()\n",
    "print('ROC AUC Score:',roc_auc_score(y_test,y_test_pred))\n",
    "print()\n",
    "print('F1 Score:',f1_score(y_test,y_test_pred))\n",
    "print()\n",
    "print('Accuracy Score:',accuracy_score(y_test,y_test_pred))"
   ]
  },
  {
   "cell_type": "markdown",
   "id": "73a45ffa",
   "metadata": {},
   "source": [
    "### Building Decision Tree"
   ]
  },
  {
   "cell_type": "code",
   "execution_count": null,
   "id": "83e3d4e0",
   "metadata": {},
   "outputs": [],
   "source": [
    "from sklearn.tree import DecisionTreeClassifier\n",
    "dt_clf = DecisionTreeClassifier()\n",
    "dt_clf.fit(X_train, y_train)"
   ]
  },
  {
   "cell_type": "markdown",
   "id": "79dc9899",
   "metadata": {},
   "source": [
    "### Evaluting model on Train data"
   ]
  },
  {
   "cell_type": "code",
   "execution_count": null,
   "id": "ced84359",
   "metadata": {},
   "outputs": [],
   "source": [
    "print(\"Train Results\")\n",
    "print()\n",
    "pred_train = dt_clf.predict(X_train)\n",
    "\n",
    "print(confusion_matrix(y_train, pred_train))\n",
    "print()\n",
    "print(classification_report(y_train, pred_train))\n",
    "print()\n",
    "print('ROC AUC Score:',roc_auc_score(y_train,pred_train))\n",
    "print()\n",
    "print('F1 Score:',f1_score(y_train,pred_train))\n",
    "print()\n",
    "print('Accuracy Score:',accuracy_score(y_train,pred_train))"
   ]
  },
  {
   "cell_type": "markdown",
   "id": "5f29bdbc",
   "metadata": {},
   "source": [
    "### Evaluting model on Test data"
   ]
  },
  {
   "cell_type": "code",
   "execution_count": null,
   "id": "2a26cddb",
   "metadata": {},
   "outputs": [],
   "source": [
    "print(\"Test Results\")\n",
    "print()\n",
    "pred_test = dt_clf.predict(X_test)\n",
    "\n",
    "print(confusion_matrix(y_test, pred_test))\n",
    "print()\n",
    "print(classification_report(y_test, pred_test))\n",
    "print()\n",
    "print('ROC AUC Score:',roc_auc_score(y_test,pred_test))\n",
    "print()\n",
    "print('F1 Score:',f1_score(y_test,pred_test))\n",
    "print()\n",
    "print('Accuracy Score:',accuracy_score(y_test,pred_test))\n"
   ]
  },
  {
   "cell_type": "markdown",
   "id": "15e03a02",
   "metadata": {},
   "source": [
    "### Building Random Forest Model"
   ]
  },
  {
   "cell_type": "code",
   "execution_count": null,
   "id": "58eacc82",
   "metadata": {},
   "outputs": [],
   "source": [
    "from sklearn.ensemble import RandomForestClassifier"
   ]
  },
  {
   "cell_type": "code",
   "execution_count": null,
   "id": "06ab965c",
   "metadata": {},
   "outputs": [],
   "source": [
    "rf = RandomForestClassifier(n_estimators=20, random_state=42, n_jobs=-1, max_depth=5, min_samples_leaf=10)"
   ]
  },
  {
   "cell_type": "code",
   "execution_count": null,
   "id": "d6b5e156",
   "metadata": {},
   "outputs": [],
   "source": [
    "rf.fit(X_train, y_train)"
   ]
  },
  {
   "cell_type": "code",
   "execution_count": null,
   "id": "0c20137c",
   "metadata": {},
   "outputs": [],
   "source": [
    "sample_tree = rf.estimators_[10]"
   ]
  },
  {
   "cell_type": "markdown",
   "id": "2283e76c",
   "metadata": {},
   "source": [
    "### Evaluting model on Train data"
   ]
  },
  {
   "cell_type": "code",
   "execution_count": null,
   "id": "894818ae",
   "metadata": {},
   "outputs": [],
   "source": [
    "print(\"Train Results\")\n",
    "y_train_pred_rf = rf.predict(X_train)\n",
    "print()\n",
    "\n",
    "\n",
    "print(confusion_matrix(y_train, y_train_pred_rf))\n",
    "print()\n",
    "print(classification_report(y_train, y_train_pred_rf))\n",
    "print()\n",
    "print('ROC AUC Score:',roc_auc_score(y_train,y_train_pred_rf))\n",
    "print()\n",
    "print('F1 Score:',f1_score(y_train,y_train_pred_rf))\n",
    "print()\n",
    "print('Accuracy Score:',accuracy_score(y_train,y_train_pred_rf))"
   ]
  },
  {
   "cell_type": "markdown",
   "id": "1377324d",
   "metadata": {},
   "source": [
    "### Evaluting model on Test data"
   ]
  },
  {
   "cell_type": "code",
   "execution_count": null,
   "id": "ad971ce0",
   "metadata": {},
   "outputs": [],
   "source": [
    "print(\"Test Results\")\n",
    "print()\n",
    "y_test_pred_rf = rf.predict(X_test)\n",
    "\n",
    "print(confusion_matrix(y_test, y_test_pred_rf))\n",
    "print()\n",
    "print(classification_report(y_test, y_test_pred_rf))\n",
    "print()\n",
    "print('ROC AUC Score:',roc_auc_score(y_test,y_test_pred_rf))\n",
    "print()\n",
    "print('F1 Score:',f1_score(y_test,y_test_pred_rf))\n",
    "print()\n",
    "print('Accuracy Score:',accuracy_score(y_test,y_test_pred_rf))\n"
   ]
  },
  {
   "cell_type": "markdown",
   "id": "2576ceb9",
   "metadata": {},
   "source": [
    "### Analysis\n",
    "\n",
    "\n",
    "I have used different Machine Learning Models to detect the fruad transaction that are taking place.\n",
    "\n",
    "To choose which variable is best for model feature selection was used.\n",
    "Top variable comes out are - oldbalanceOrg, newbalanceOrg, type_PAYMENT, type_TRANSFER\n",
    "\n",
    "The Model Built are Logistic Regression Model, Decision tree and Random Forest.\n",
    "Random forest and Decision Tree modelperform best on train as well as on test data.\n",
    "\n",
    "The performance of the model is checked by ROC AUC score, Accuracy, F1 Score, Precision and recall.\n",
    "\n",
    "The key factor that are used to detect fraud transcation are type_PAYMENT, type_Transfer it can be detected that fraudster are \n",
    "using are common type of payment and transfer menthod to do the fraud.\n",
    "\n",
    "The prevention can be using 2 step of verification having a more watch on payment and transfer menthod. Having a eye on how a\n",
    "normal person do a transaction by keeping a watch on there oldbalanceOrg and newbalanceOrg. If there is something unusual \n",
    "detected use 2 step verification for that process.\n",
    "\n",
    "When these things are implemented the data shoulded be collected again and should be perform again on the model. It will attain\n",
    "the better accuracy,precision and recall value from the past it scored.\n",
    "\n",
    "\n",
    "FLOW OF ANALYSIS\n",
    "\n",
    "1. Data cleaning and data manipulation.\n",
    "  - Check and handle duplicate data.\n",
    "  - Check and handle NA values and missing values.\n",
    "  - Drop columns. If it contains large amount of missing values and not used for analysis.\n",
    "  - Imputation of the values.\n",
    "2. EDA\n",
    "  - Univariate data analysis,values_count,distribution of variable.\n",
    "  - Bivariate data analysis,correlation coefficients and pattern between the variable.\n",
    "  - Feature Scaling and Creating Dummy Variable.\n",
    "  - Performed Oversampling.\n",
    "  - Building Model: Logistic regression, Decision Tree, Random forest Model used for the model making and prediction.\n",
    "  - Validation of the model."
   ]
  },
  {
   "cell_type": "code",
   "execution_count": null,
   "id": "fd287f84",
   "metadata": {},
   "outputs": [],
   "source": []
  }
 ],
 "metadata": {
  "kernelspec": {
   "display_name": "Python 3 (ipykernel)",
   "language": "python",
   "name": "python3"
  },
  "language_info": {
   "codemirror_mode": {
    "name": "ipython",
    "version": 3
   },
   "file_extension": ".py",
   "mimetype": "text/x-python",
   "name": "python",
   "nbconvert_exporter": "python",
   "pygments_lexer": "ipython3",
   "version": "3.9.12"
  }
 },
 "nbformat": 4,
 "nbformat_minor": 5
}
